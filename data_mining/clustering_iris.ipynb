{
 "cells": [
  {
   "cell_type": "markdown",
   "id": "e788e013",
   "metadata": {},
   "source": [
    "# Section 2 — Task 2: Clustering (Iris)\n"
   ]
  },
  {
   "cell_type": "markdown",
   "id": "1e5887ba",
   "metadata": {},
   "source": [
    "# 1. Imports"
   ]
  },
  {
   "cell_type": "code",
   "execution_count": 1,
   "id": "8a4241d6",
   "metadata": {},
   "outputs": [],
   "source": [
    "import os, numpy as np, pandas as pd, matplotlib.pyplot as plt\n",
    "from sklearn.cluster import KMeans\n",
    "from sklearn.metrics import adjusted_rand_score\n",
    "from sklearn.datasets import load_iris\n",
    "from sklearn.preprocessing import MinMaxScaler"
   ]
  },
  {
   "cell_type": "markdown",
   "id": "6f3d3aa7",
   "metadata": {},
   "source": [
    "# 2. Load Preprocessed Data"
   ]
  },
  {
   "cell_type": "code",
   "execution_count": 2,
   "id": "6d32484b",
   "metadata": {},
   "outputs": [
    {
     "name": "stdout",
     "output_type": "stream",
     "text": [
      "Loaded preprocessed CSVs from Task 1.\n"
     ]
    },
    {
     "data": {
      "text/plain": [
       "(   sepal length (cm)  sepal width (cm)  petal length (cm)  petal width (cm)\n",
       " 0           0.222222          0.625000           0.067797          0.041667\n",
       " 1           0.166667          0.416667           0.067797          0.041667\n",
       " 2           0.111111          0.500000           0.050847          0.041667\n",
       " 3           0.083333          0.458333           0.084746          0.041667\n",
       " 4           0.194444          0.666667           0.067797          0.041667,\n",
       " 0    0\n",
       " 1    0\n",
       " 2    0\n",
       " 3    0\n",
       " 4    0\n",
       " Name: target, dtype: int64)"
      ]
     },
     "execution_count": 2,
     "metadata": {},
     "output_type": "execute_result"
    }
   ],
   "source": [
    "MINING_DIR = os.getcwd()\n",
    "X_path = os.path.join(MINING_DIR, \"iris_X_scaled.csv\")\n",
    "y_path = os.path.join(MINING_DIR, \"iris_y.csv\")\n",
    "\n",
    "# Prefer preprocessed data from Task 1; fallback to quick scaling if not found\n",
    "if os.path.exists(X_path) and os.path.exists(y_path):\n",
    "    X = pd.read_csv(X_path)\n",
    "    y = pd.read_csv(y_path)[\"target\"]\n",
    "    print(\"Loaded preprocessed CSVs from Task 1.\")\n",
    "else:\n",
    "    print(\"Preprocessed CSVs not found — loading Iris and applying Min-Max scaling as fallback.\")\n",
    "    iris = load_iris(as_frame=True)\n",
    "    X_raw = iris.frame.drop(columns=[\"target\"])\n",
    "    y = iris.frame[\"target\"]\n",
    "    X = pd.DataFrame(MinMaxScaler().fit_transform(X_raw), columns=X_raw.columns)\n",
    "\n",
    "X.head(), y.head()"
   ]
  },
  {
   "cell_type": "markdown",
   "id": "4b8653db",
   "metadata": {},
   "source": [
    "# 3. Fit K-Means for k=2,3,4 and compute ARI\n"
   ]
  },
  {
   "cell_type": "code",
   "execution_count": 3,
   "id": "1fc5de68",
   "metadata": {},
   "outputs": [
    {
     "data": {
      "text/html": [
       "<div>\n",
       "<style scoped>\n",
       "    .dataframe tbody tr th:only-of-type {\n",
       "        vertical-align: middle;\n",
       "    }\n",
       "\n",
       "    .dataframe tbody tr th {\n",
       "        vertical-align: top;\n",
       "    }\n",
       "\n",
       "    .dataframe thead th {\n",
       "        text-align: right;\n",
       "    }\n",
       "</style>\n",
       "<table border=\"1\" class=\"dataframe\">\n",
       "  <thead>\n",
       "    <tr style=\"text-align: right;\">\n",
       "      <th></th>\n",
       "      <th>k</th>\n",
       "      <th>ARI</th>\n",
       "    </tr>\n",
       "  </thead>\n",
       "  <tbody>\n",
       "    <tr>\n",
       "      <th>0</th>\n",
       "      <td>2</td>\n",
       "      <td>0.568116</td>\n",
       "    </tr>\n",
       "    <tr>\n",
       "      <th>1</th>\n",
       "      <td>3</td>\n",
       "      <td>0.700867</td>\n",
       "    </tr>\n",
       "    <tr>\n",
       "      <th>2</th>\n",
       "      <td>4</td>\n",
       "      <td>0.620633</td>\n",
       "    </tr>\n",
       "  </tbody>\n",
       "</table>\n",
       "</div>"
      ],
      "text/plain": [
       "   k       ARI\n",
       "0  2  0.568116\n",
       "1  3  0.700867\n",
       "2  4  0.620633"
      ]
     },
     "execution_count": 3,
     "metadata": {},
     "output_type": "execute_result"
    }
   ],
   "source": [
    "def kmeans_scores(X, y, ks=(2,3,4), seed=42):\n",
    "    rows, inertias = [], []\n",
    "    for k in ks:\n",
    "        km = KMeans(n_clusters=k, random_state=seed, n_init=\"auto\").fit(X)\n",
    "        pred = km.labels_\n",
    "        ari = adjusted_rand_score(y, pred)\n",
    "        rows.append({\"k\": k, \"ARI\": ari})\n",
    "        inertias.append({\"k\": k, \"inertia\": km.inertia_})\n",
    "    return pd.DataFrame(rows), pd.DataFrame(inertias)\n",
    "\n",
    "scores, inert = kmeans_scores(X, y, ks=(2,3,4))\n",
    "scores\n"
   ]
  },
  {
   "cell_type": "markdown",
   "id": "bddc55aa",
   "metadata": {},
   "source": [
    "# 3. Elbow curve (inertia) to justify k"
   ]
  },
  {
   "cell_type": "code",
   "execution_count": 4,
   "id": "41c15280",
   "metadata": {},
   "outputs": [
    {
     "data": {
      "image/png": "[encoded data removed]",
      "text/plain": [
       "<Figure size 500x300 with 1 Axes>"
      ]
     },
     "metadata": {},
     "output_type": "display_data"
    },
    {
     "data": {
      "text/plain": [
       "('/Users/williamgathii/Documents/University/Kyra/DSA-2040_Practical_Exam_Kyra_619/data_mining/kmeans_elbow.png',\n",
       " '/Users/williamgathii/Documents/University/Kyra/DSA-2040_Practical_Exam_Kyra_619/data_mining/clustering_scores.csv')"
      ]
     },
     "execution_count": 4,
     "metadata": {},
     "output_type": "execute_result"
    }
   ],
   "source": [
    "plt.figure(figsize=(5,3))\n",
    "plt.plot(inert[\"k\"], inert[\"inertia\"], marker=\"o\")\n",
    "plt.title(\"K-Means Elbow (Iris)\")\n",
    "plt.xlabel(\"k\"); plt.ylabel(\"Inertia\")\n",
    "plt.tight_layout()\n",
    "elbow_path = os.path.join(MINING_DIR, \"kmeans_elbow.png\")\n",
    "plt.savefig(elbow_path, dpi=150)\n",
    "plt.show()\n",
    "\n",
    "scores_path = os.path.join(MINING_DIR, \"clustering_scores.csv\")\n",
    "scores.to_csv(scores_path, index=False)\n",
    "elbow_path, scores_path\n"
   ]
  },
  {
   "cell_type": "markdown",
   "id": "810e6eea",
   "metadata": {},
   "source": [
    "# 4.Visualize clusters for k=3 "
   ]
  },
  {
   "cell_type": "code",
   "execution_count": 5,
   "id": "0d480e5d",
   "metadata": {},
   "outputs": [
    {
     "data": {
      "image/png": "[encoded data removed]",
      "text/plain": [
       "<Figure size 500x400 with 1 Axes>"
      ]
     },
     "metadata": {},
     "output_type": "display_data"
    },
    {
     "name": "stdout",
     "output_type": "stream",
     "text": [
      "ARI scores (k=2,3,4):\n"
     ]
    },
    {
     "data": {
      "text/html": [
       "<div>\n",
       "<style scoped>\n",
       "    .dataframe tbody tr th:only-of-type {\n",
       "        vertical-align: middle;\n",
       "    }\n",
       "\n",
       "    .dataframe tbody tr th {\n",
       "        vertical-align: top;\n",
       "    }\n",
       "\n",
       "    .dataframe thead th {\n",
       "        text-align: right;\n",
       "    }\n",
       "</style>\n",
       "<table border=\"1\" class=\"dataframe\">\n",
       "  <thead>\n",
       "    <tr style=\"text-align: right;\">\n",
       "      <th></th>\n",
       "      <th>k</th>\n",
       "      <th>ARI</th>\n",
       "    </tr>\n",
       "  </thead>\n",
       "  <tbody>\n",
       "    <tr>\n",
       "      <th>0</th>\n",
       "      <td>2</td>\n",
       "      <td>0.568116</td>\n",
       "    </tr>\n",
       "    <tr>\n",
       "      <th>1</th>\n",
       "      <td>3</td>\n",
       "      <td>0.700867</td>\n",
       "    </tr>\n",
       "    <tr>\n",
       "      <th>2</th>\n",
       "      <td>4</td>\n",
       "      <td>0.620633</td>\n",
       "    </tr>\n",
       "  </tbody>\n",
       "</table>\n",
       "</div>"
      ],
      "text/plain": [
       "   k       ARI\n",
       "0  2  0.568116\n",
       "1  3  0.700867\n",
       "2  4  0.620633"
      ]
     },
     "metadata": {},
     "output_type": "display_data"
    },
    {
     "data": {
      "text/plain": [
       "'/Users/williamgathii/Documents/University/Kyra/DSA-2040_Practical_Exam_Kyra_619/data_mining/kmeans_clusters_k3.png'"
      ]
     },
     "execution_count": 5,
     "metadata": {},
     "output_type": "execute_result"
    }
   ],
   "source": [
    "# select feature names robustly\n",
    "def find_feat(cols, key):\n",
    "    matches = [c for c in cols if key in c.lower().replace(\" \", \"_\")]\n",
    "    return matches[0] if matches else None\n",
    "\n",
    "cols = list(X.columns)\n",
    "feat_pl = find_feat(cols, \"petal_length\") or find_feat(cols, \"petal length\") or cols[2]\n",
    "feat_pw = find_feat(cols, \"petal_width\")  or find_feat(cols, \"petal width\")  or cols[3]\n",
    "\n",
    "km3 = KMeans(n_clusters=3, random_state=42, n_init=\"auto\").fit(X)\n",
    "labels3 = km3.labels_\n",
    "ari3 = adjusted_rand_score(y, labels3)\n",
    "\n",
    "plt.figure(figsize=(5,4))\n",
    "plt.scatter(X[feat_pl], X[feat_pw], c=labels3)\n",
    "plt.xlabel(feat_pl); plt.ylabel(feat_pw)\n",
    "plt.title(f\"K-Means (k=3) — ARI={ari3:.3f}\")\n",
    "plt.tight_layout()\n",
    "scatter_path = os.path.join(MINING_DIR, \"kmeans_clusters_k3.png\")\n",
    "plt.savefig(scatter_path, dpi=150)\n",
    "plt.show()\n",
    "\n",
    "print(\"ARI scores (k=2,3,4):\")\n",
    "display(scores)\n",
    "scatter_path\n"
   ]
  },
  {
   "cell_type": "markdown",
   "id": "70ad4d1a",
   "metadata": {},
   "source": [
    "# 5. Analysis"
   ]
  },
  {
   "cell_type": "code",
   "execution_count": 6,
   "id": "9d0fe8b5",
   "metadata": {},
   "outputs": [
    {
     "name": "stdout",
     "output_type": "stream",
     "text": [
      "/Users/williamgathii/Documents/University/Kyra/DSA-2040_Practical_Exam_Kyra_619/data_mining/clustering_analysis.md\n",
      "**Clustering results.** With k ∈ {2,3,4}, the Adjusted Rand Index (ARI) peaks near k=3\n",
      "(ARI ≈ 0.701), matching the known three Iris species.\n",
      "The elbow curve shows a clear bend at k≈3, indicating diminishing returns in within-cluster\n",
      "variance beyond that point. The k=3 scatter (petal length vs petal width) separates Setosa\n",
      "well, while Versicolor and Virginica partially overlap—consistent with classic findings for\n",
      "this dataset. Because we used Min–Max scaled features, distance-based clustering treats all\n",
      "dimensions comparably, avoiding dominance by high-variance features.\n",
      "\n",
      "**Interpretation.** The clusters align closely with biological species, suggesting the feature\n",
      "set is informative. Mis-clustered points are likely near the Versicolor–Virginica boundary,\n",
      "where petal measurements overlap; adding more features (e.g., texture) or using Gaussian\n",
      "mixture models might improve boundaries. In practice, a similar workflow supports\n",
      "unsupervised QA, fast labeling, or first-pass customer segmentation: pick k via elbow,\n",
      "quantify agreement with ARI when labels exist, then visualize feature pairs to understand\n",
      "group separation and ambiguous regions.\n"
     ]
    }
   ],
   "source": [
    "analysis = f\"\"\"\n",
    "**Clustering results.** With k ∈ {{2,3,4}}, the Adjusted Rand Index (ARI) peaks near k=3\n",
    "(ARI ≈ {scores.loc[scores['k']==3,'ARI'].item():.3f}), matching the known three Iris species.\n",
    "The elbow curve shows a clear bend at k≈3, indicating diminishing returns in within-cluster\n",
    "variance beyond that point. The k=3 scatter (petal length vs petal width) separates Setosa\n",
    "well, while Versicolor and Virginica partially overlap—consistent with classic findings for\n",
    "this dataset. Because we used Min–Max scaled features, distance-based clustering treats all\n",
    "dimensions comparably, avoiding dominance by high-variance features.\n",
    "\n",
    "**Interpretation.** The clusters align closely with biological species, suggesting the feature\n",
    "set is informative. Mis-clustered points are likely near the Versicolor–Virginica boundary,\n",
    "where petal measurements overlap; adding more features (e.g., texture) or using Gaussian\n",
    "mixture models might improve boundaries. In practice, a similar workflow supports\n",
    "unsupervised QA, fast labeling, or first-pass customer segmentation: pick k via elbow,\n",
    "quantify agreement with ARI when labels exist, then visualize feature pairs to understand\n",
    "group separation and ambiguous regions.\n",
    "\"\"\".strip()\n",
    "\n",
    "out_md = os.path.join(MINING_DIR, \"clustering_analysis.md\")\n",
    "with open(out_md, \"w\") as f:\n",
    "    f.write(analysis)\n",
    "\n",
    "print(out_md)\n",
    "print(analysis)\n"
   ]
  }
 ],
 "metadata": {
  "kernelspec": {
   "display_name": "Python 3",
   "language": "python",
   "name": "python3"
  },
  "language_info": {
   "codemirror_mode": {
    "name": "ipython",
    "version": 3
   },
   "file_extension": ".py",
   "mimetype": "text/x-python",
   "name": "python",
   "nbconvert_exporter": "python",
   "pygments_lexer": "ipython3",
   "version": "3.13.5"
  }
 },
 "nbformat": 4,
 "nbformat_minor": 5
}
