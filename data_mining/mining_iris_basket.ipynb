{
 "cells": [
  {
   "cell_type": "markdown",
   "id": "8890dc02",
   "metadata": {},
   "source": [
    "# Section 2 — Task 3: Classification & Association Rules"
   ]
  },
  {
   "cell_type": "markdown",
   "id": "77e5f219",
   "metadata": {},
   "source": [
    "# 1. Imports"
   ]
  },
  {
   "cell_type": "code",
   "execution_count": null,
   "id": "26ff48b3",
   "metadata": {},
   "outputs": [],
   "source": [
    "import os, random, numpy as np, pandas as pd\n",
    "import matplotlib.pyplot as plt\n",
    "\n",
    "from sklearn.model_selection import train_test_split\n",
    "from sklearn.tree import DecisionTreeClassifier, plot_tree\n",
    "from sklearn.neighbors import KNeighborsClassifier\n",
    "from sklearn.metrics import accuracy_score, precision_recall_fscore_support\n",
    "\n",
    "# mlxtend for Apriori (pip install mlxtend if import fails)\n",
    "from mlxtend.preprocessing import TransactionEncoder\n",
    "from mlxtend.frequent_patterns import apriori, association_rules"
   ]
  },
  {
   "cell_type": "markdown",
   "id": "0c7f6d0d",
   "metadata": {},
   "source": [
    "# 2. Paths"
   ]
  },
  {
   "cell_type": "code",
   "execution_count": null,
   "id": "fd5900e4",
   "metadata": {},
   "outputs": [],
   "source": [
    "OUT_DIR = os.getcwd()\n",
    "X_PATH = os.path.join(OUT_DIR, \"iris_X_scaled.csv\")\n",
    "Y_PATH = os.path.join(OUT_DIR, \"iris_y.csv\")\n",
    "print(\"Outputs will be saved to:\", OUT_DIR)"
   ]
  }
 ],
 "metadata": {
  "kernelspec": {
   "display_name": "Python 3",
   "language": "python",
   "name": "python3"
  },
  "language_info": {
   "name": "python",
   "version": "3.13.5"
  }
 },
 "nbformat": 4,
 "nbformat_minor": 5
}
