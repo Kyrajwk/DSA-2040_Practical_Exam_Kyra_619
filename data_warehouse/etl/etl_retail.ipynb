{
 "cells": [
  {
   "cell_type": "markdown",
   "id": "f7350f2e",
   "metadata": {},
   "source": [
    "# ETL Process for Retail Data Warehouse\n",
    "\n",
    "This notebook extracts raw retail sales data, transforms it into a star-schema format, \n",
    "and loads it into an SQLite database for OLAP analysis."
   ]
  },
  {
   "cell_type": "markdown",
   "id": "3cb55f60",
   "metadata": {},
   "source": [
    "# 1. Imports"
   ]
  },
  {
   "cell_type": "code",
   "execution_count": null,
   "id": "aff1ba8a",
   "metadata": {},
   "outputs": [],
   "source": [
    "import os, sqlite3, random\n",
    "import numpy as np\n",
    "import pandas as pd\n"
   ]
  },
  {
   "cell_type": "markdown",
   "id": "5943c5f5",
   "metadata": {},
   "source": [
    "# 2. Paths"
   ]
  },
  {
   "cell_type": "code",
   "execution_count": null,
   "id": "52819ca6",
   "metadata": {},
   "outputs": [],
   "source": [
    "ETL_DIR = os.getcwd()\n",
    "CSV_PATH = os.path.join(ETL_DIR, \"synthetic_online_retail.csv\")\n",
    "DB_PATH  = os.path.join(ETL_DIR, \"retail_dw.db\")\n",
    "\n",
    "CURRENT_DATE = pd.Timestamp(\"2025-08-13\")\n",
    "ONE_YEAR_AGO = CURRENT_DATE - pd.Timedelta(days=365)\n",
    "\n",
    "print(\"Notebook folder:\", ETL_DIR)\n",
    "print(\"CSV will be at   :\", CSV_PATH)\n",
    "print(\"DB will be at    :\", DB_PATH)"
   ]
  },
  {
   "cell_type": "markdown",
   "id": "b5d568db",
   "metadata": {},
   "source": [
    "# 3. Generate CSV"
   ]
  },
  {
   "cell_type": "code",
   "execution_count": null,
   "id": "f4768017",
   "metadata": {},
   "outputs": [],
   "source": []
  }
 ],
 "metadata": {
  "language_info": {
   "name": "python"
  }
 },
 "nbformat": 4,
 "nbformat_minor": 5
}
