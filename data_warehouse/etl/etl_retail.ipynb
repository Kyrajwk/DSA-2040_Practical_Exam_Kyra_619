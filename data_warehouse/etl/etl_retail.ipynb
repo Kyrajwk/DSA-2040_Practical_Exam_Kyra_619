{
 "cells": [
  {
   "cell_type": "markdown",
   "id": "f7350f2e",
   "metadata": {},
   "source": [
    "# ETL Process for Retail Data Warehouse\n",
    "\n",
    "This notebook extracts raw retail sales data, transforms it into a star-schema format, \n",
    "and loads it into an SQLite database for OLAP analysis."
   ]
  },
  {
   "cell_type": "markdown",
   "id": "3cb55f60",
   "metadata": {},
   "source": [
    "# 1. Imports"
   ]
  },
  {
   "cell_type": "code",
   "execution_count": 1,
   "id": "aff1ba8a",
   "metadata": {},
   "outputs": [],
   "source": [
    "import os, sqlite3, random\n",
    "import numpy as np\n",
    "import pandas as pd\n",
    "from IPython.display import display\n"
   ]
  },
  {
   "cell_type": "markdown",
   "id": "5943c5f5",
   "metadata": {},
   "source": [
    "# 2. Paths"
   ]
  },
  {
   "cell_type": "code",
   "execution_count": 2,
   "id": "52819ca6",
   "metadata": {},
   "outputs": [
    {
     "name": "stdout",
     "output_type": "stream",
     "text": [
      "Notebook folder: c:\\Users\\billg\\Documents\\Kyra ;)\\DSA-2040_Practical_Exam_Kyra_619\\DSA-2040_Practical_Exam_Kyra_619\\data_warehouse\\etl\n",
      "CSV path       : c:\\Users\\billg\\Documents\\Kyra ;)\\DSA-2040_Practical_Exam_Kyra_619\\DSA-2040_Practical_Exam_Kyra_619\\data_warehouse\\etl\\online_retail.csv\n",
      "SQLite DB path : c:\\Users\\billg\\Documents\\Kyra ;)\\DSA-2040_Practical_Exam_Kyra_619\\DSA-2040_Practical_Exam_Kyra_619\\data_warehouse\\etl\\retail_dw.db\n"
     ]
    }
   ],
   "source": [
    "ETL_DIR = os.getcwd()\n",
    "CSV_PATH = os.path.join(ETL_DIR, \"online_retail.csv\")  # will be created here if missing\n",
    "DB_PATH  = os.path.join(ETL_DIR, \"retail_dw.db\")\n",
    "\n",
    "CURRENT_DATE = pd.Timestamp(\"2025-08-13\")\n",
    "ONE_YEAR_AGO = CURRENT_DATE - pd.Timedelta(days=365)\n",
    "\n",
    "print(\"Notebook folder:\", ETL_DIR)\n",
    "print(\"CSV path       :\", CSV_PATH)\n",
    "print(\"SQLite DB path :\", DB_PATH)"
   ]
  },
  {
   "cell_type": "markdown",
   "id": "b5d568db",
   "metadata": {},
   "source": [
    "# 3. Create retail CSV"
   ]
  },
  {
   "cell_type": "code",
   "execution_count": 3,
   "id": "f4768017",
   "metadata": {},
   "outputs": [
    {
     "name": "stdout",
     "output_type": "stream",
     "text": [
      "CSV already exists; not overwriting.\n"
     ]
    },
    {
     "data": {
      "text/html": [
       "<div>\n",
       "<style scoped>\n",
       "    .dataframe tbody tr th:only-of-type {\n",
       "        vertical-align: middle;\n",
       "    }\n",
       "\n",
       "    .dataframe tbody tr th {\n",
       "        vertical-align: top;\n",
       "    }\n",
       "\n",
       "    .dataframe thead th {\n",
       "        text-align: right;\n",
       "    }\n",
       "</style>\n",
       "<table border=\"1\" class=\"dataframe\">\n",
       "  <thead>\n",
       "    <tr style=\"text-align: right;\">\n",
       "      <th></th>\n",
       "      <th>InvoiceNo</th>\n",
       "      <th>StockCode</th>\n",
       "      <th>Description</th>\n",
       "      <th>Quantity</th>\n",
       "      <th>InvoiceDate</th>\n",
       "      <th>UnitPrice</th>\n",
       "      <th>CustomerID</th>\n",
       "      <th>Country</th>\n",
       "    </tr>\n",
       "  </thead>\n",
       "  <tbody>\n",
       "    <tr>\n",
       "      <th>0</th>\n",
       "      <td>INV100000</td>\n",
       "      <td>S1045</td>\n",
       "      <td>Clothing - Item 595</td>\n",
       "      <td>17</td>\n",
       "      <td>2023-11-24 04:23:15</td>\n",
       "      <td>1.06</td>\n",
       "      <td>10004</td>\n",
       "      <td>Spain</td>\n",
       "    </tr>\n",
       "    <tr>\n",
       "      <th>1</th>\n",
       "      <td>INV100001</td>\n",
       "      <td>S1027</td>\n",
       "      <td>Clothing - Item 611</td>\n",
       "      <td>28</td>\n",
       "      <td>2024-05-10 21:20:20</td>\n",
       "      <td>12.04</td>\n",
       "      <td>10044</td>\n",
       "      <td>Finland</td>\n",
       "    </tr>\n",
       "    <tr>\n",
       "      <th>2</th>\n",
       "      <td>INV100002</td>\n",
       "      <td>S1080</td>\n",
       "      <td>Home - Item 447</td>\n",
       "      <td>39</td>\n",
       "      <td>2025-04-19 01:44:25</td>\n",
       "      <td>22.80</td>\n",
       "      <td>10065</td>\n",
       "      <td>Norway</td>\n",
       "    </tr>\n",
       "    <tr>\n",
       "      <th>3</th>\n",
       "      <td>INV100003</td>\n",
       "      <td>S1029</td>\n",
       "      <td>Toys - Item 395</td>\n",
       "      <td>37</td>\n",
       "      <td>2024-11-22 10:19:54</td>\n",
       "      <td>45.92</td>\n",
       "      <td>10024</td>\n",
       "      <td>Finland</td>\n",
       "    </tr>\n",
       "    <tr>\n",
       "      <th>4</th>\n",
       "      <td>INV100004</td>\n",
       "      <td>S1065</td>\n",
       "      <td>Home - Item 46</td>\n",
       "      <td>46</td>\n",
       "      <td>2024-11-14 12:15:31</td>\n",
       "      <td>42.89</td>\n",
       "      <td>10055</td>\n",
       "      <td>Germany</td>\n",
       "    </tr>\n",
       "  </tbody>\n",
       "</table>\n",
       "</div>"
      ],
      "text/plain": [
       "   InvoiceNo StockCode          Description  Quantity          InvoiceDate  \\\n",
       "0  INV100000     S1045  Clothing - Item 595        17  2023-11-24 04:23:15   \n",
       "1  INV100001     S1027  Clothing - Item 611        28  2024-05-10 21:20:20   \n",
       "2  INV100002     S1080      Home - Item 447        39  2025-04-19 01:44:25   \n",
       "3  INV100003     S1029      Toys - Item 395        37  2024-11-22 10:19:54   \n",
       "4  INV100004     S1065       Home - Item 46        46  2024-11-14 12:15:31   \n",
       "\n",
       "   UnitPrice  CustomerID  Country  \n",
       "0       1.06       10004    Spain  \n",
       "1      12.04       10044  Finland  \n",
       "2      22.80       10065   Norway  \n",
       "3      45.92       10024  Finland  \n",
       "4      42.89       10055  Germany  "
      ]
     },
     "metadata": {},
     "output_type": "display_data"
    }
   ],
   "source": [
    "def create_retail_csv(path=CSV_PATH, n_rows=1000, seed=42):\n",
    "    random.seed(seed); np.random.seed(seed)\n",
    "    countries  = [\"United Kingdom\",\"Germany\",\"France\",\"Spain\",\"Netherlands\",\"Norway\",\"Sweden\",\"Finland\",\"Denmark\",\"Ireland\"]\n",
    "    categories = [\"Electronics\",\"Clothing\",\"Home\",\"Toys\",\"Beauty\"]\n",
    "\n",
    "    n_customers = 100\n",
    "    customer_ids = [10000 + i for i in range(n_customers)]\n",
    "    country_of   = {cid: random.choice(countries) for cid in customer_ids}\n",
    "\n",
    "    n_products = 150\n",
    "    stock_codes = [f\"S{1000+i}\" for i in range(n_products)]\n",
    "    unit_price  = {code: round(random.uniform(1.0, 100.0), 2) for code in stock_codes}\n",
    "    cat_of      = {code: random.choice(categories) for code in stock_codes}\n",
    "\n",
    "    end_date = CURRENT_DATE\n",
    "    start_date = end_date - pd.Timedelta(days=730)\n",
    "\n",
    "    rows = []\n",
    "    for i in range(n_rows):\n",
    "        invoice = f\"INV{100000+i}\"\n",
    "        code = random.choice(stock_codes)\n",
    "        desc = f\"{cat_of[code]} - Item {random.randint(1,999)}\"\n",
    "        qty  = random.randint(1, 50)\n",
    "        offset_days = np.random.randint(0, (end_date - start_date).days + 1)\n",
    "        dt = start_date + pd.Timedelta(days=int(offset_days), seconds=int(np.random.randint(0, 86400)))\n",
    "        cid = random.choice(customer_ids)\n",
    "        rows.append([invoice, code, desc, qty, dt, unit_price[code], cid, country_of[cid]])\n",
    "\n",
    "    df = pd.DataFrame(rows, columns=[\n",
    "        \"InvoiceNo\",\"StockCode\",\"Description\",\"Quantity\",\"InvoiceDate\",\"UnitPrice\",\"CustomerID\",\"Country\"\n",
    "    ])\n",
    "    df.to_csv(path, index=False)\n",
    "    return path\n",
    "\n",
    "if not os.path.exists(CSV_PATH):\n",
    "    create_retail_csv(CSV_PATH, n_rows=1000)\n",
    "else:\n",
    "    print(\"CSV already exists; not overwriting.\")\n",
    "\n",
    "display(pd.read_csv(CSV_PATH, nrows=5))\n"
   ]
  },
  {
   "cell_type": "markdown",
   "id": "c4258998",
   "metadata": {},
   "source": [
    "# 4. ETL pipeline"
   ]
  },
  {
   "cell_type": "code",
   "execution_count": null,
   "id": "bf27a59f",
   "metadata": {},
   "outputs": [],
   "source": [
    "def run_etl(csv_path=CSV_PATH, db_path=DB_PATH):\n",
    "    DDL = \"\"\"\n",
    "    CREATE TABLE IF NOT EXISTS CustomerDim (\n",
    "        CustomerKey INTEGER PRIMARY KEY,\n",
    "        CustomerID INTEGER,\n",
    "        Country TEXT,\n",
    "        total_purchases REAL,\n",
    "        total_transactions INTEGER\n",
    "    );\n",
    "    CREATE TABLE IF NOT EXISTS ProductDim (\n",
    "        ProductKey INTEGER PRIMARY KEY,\n",
    "        StockCode TEXT,\n",
    "        Description TEXT,\n",
    "        Category TEXT,\n",
    "        UnitPrice REAL\n",
    "    );\n",
    "    CREATE TABLE IF NOT EXISTS TimeDim (\n",
    "        TimeKey INTEGER PRIMARY KEY,\n",
    "        Date TEXT,\n",
    "        Day INTEGER,\n",
    "        Month INTEGER,\n",
    "        MonthName TEXT,\n",
    "        Quarter INTEGER,\n",
    "        Year INTEGER\n",
    "    );\n",
    "    CREATE TABLE IF NOT EXISTS SalesFact (\n",
    "        SalesFactID INTEGER PRIMARY KEY,\n",
    "        InvoiceNo TEXT,\n",
    "        CustomerKey INTEGER,\n",
    "        ProductKey INTEGER,\n",
    "        TimeKey INTEGER,\n",
    "        Quantity INTEGER,\n",
    "        UnitPrice REAL,\n",
    "        TotalSales REAL,\n",
    "        FOREIGN KEY (CustomerKey) REFERENCES CustomerDim(CustomerKey),\n",
    "        FOREIGN KEY (ProductKey) REFERENCES ProductDim(ProductKey),\n",
    "        FOREIGN KEY (TimeKey) REFERENCES TimeDim(TimeKey)\n",
    "    );\n",
    "    \"\"\"\n",
    "\n",
    "    # --- Extract\n",
    "    df = pd.read_csv(csv_path, parse_dates=[\"InvoiceDate\"])\n",
    "    print(\"[ETL] Extracted rows:\", len(df))\n",
    "\n",
    "    # --- Transform\n",
    "    df = df[(df[\"Quantity\"] >= 0) & (df[\"UnitPrice\"] > 0)].copy()\n",
    "    df[\"TotalSales\"] = df[\"Quantity\"] * df[\"UnitPrice\"]\n",
    "    df = df[(df[\"InvoiceDate\"] >= ONE_YEAR_AGO) & (df[\"InvoiceDate\"] <= CURRENT_DATE)].copy()\n",
    "    print(\"[ETL] After last-year filter:\", len(df))\n",
    "\n",
    "    # Dimensions\n",
    "    cust = (df.groupby([\"CustomerID\",\"Country\"], as_index=False)\n",
    "              .agg(total_purchases=(\"TotalSales\",\"sum\"),\n",
    "                   total_transactions=(\"InvoiceNo\",\"nunique\")))\n",
    "    cust[\"CustomerKey\"] = range(1, len(cust)+1)\n",
    "    customer_dim = cust[[\"CustomerKey\",\"CustomerID\",\"Country\",\"total_purchases\",\"total_transactions\"]]\n",
    "\n",
    "    prod = df[[\"StockCode\",\"Description\",\"UnitPrice\"]].drop_duplicates().copy()\n",
    "    prod[\"Category\"] = prod[\"Description\"].str.split(\" - \").str[0].fillna(\"Other\")\n",
    "    prod[\"ProductKey\"] = range(1, len(prod)+1)\n",
    "    product_dim = prod[[\"ProductKey\",\"StockCode\",\"Description\",\"Category\",\"UnitPrice\"]]\n",
    "\n",
    "    tdf = pd.DataFrame({\"Date\": pd.to_datetime(df[\"InvoiceDate\"].dt.date.unique())})\n",
    "    tdf[\"TimeKey\"] = range(1, len(tdf)+1)\n",
    "    tdf[\"Day\"] = tdf[\"Date\"].dt.day\n",
    "    tdf[\"Month\"] = tdf[\"Date\"].dt.month\n",
    "    tdf[\"MonthName\"] = tdf[\"Date\"].dt.strftime(\"%b\")\n",
    "    tdf[\"Quarter\"] = ((tdf[\"Month\"] - 1)//3 + 1)\n",
    "    tdf[\"Year\"] = tdf[\"Date\"].dt.year\n",
    "    time_dim = tdf[[\"TimeKey\",\"Date\",\"Day\",\"Month\",\"MonthName\",\"Quarter\",\"Year\"]]\n",
    "\n",
    "    # --- Map surrogate keys to fact rows\n",
    "    cust_map = {(r.CustomerID, r.Country): r.CustomerKey for r in cust.itertuples(index=False)}\n",
    "    prod_map = {r.StockCode: r.ProductKey for r in product_dim.itertuples(index=False)}\n",
    "    time_map = {r.Date: r.TimeKey for r in time_dim.itertuples(index=False)}\n",
    "\n",
    "    sf = df.copy()\n",
    "    sf[\"DateOnly\"]     = sf[\"InvoiceDate\"].dt.date\n",
    "    sf[\"CustomerKey\"]  = [cust_map[(cid, ctry)] for cid, ctry in zip(sf[\"CustomerID\"], sf[\"Country\"])]\n",
    "    sf[\"ProductKey\"]   = [prod_map[sc] for sc in sf[\"StockCode\"]]\n",
    "    sf[\"TimeKey\"]      = [time_map[pd.to_datetime(d)] for d in sf[\"DateOnly\"]]\n",
    "\n",
    "    sales_fact = sf[[\"InvoiceNo\",\"CustomerKey\",\"ProductKey\",\"TimeKey\",\"Quantity\",\"UnitPrice\",\"TotalSales\"]].reset_index(drop=True)\n",
    "    sales_fact[\"SalesFactID\"] = range(1, len(sales_fact)+1)\n",
    "    sales_fact = sales_fact[[\"SalesFactID\",\"InvoiceNo\",\"CustomerKey\",\"ProductKey\",\"TimeKey\",\"Quantity\",\"UnitPrice\",\"TotalSales\"]]\n",
    "\n",
    "    # --- Load (context manager ensures the file is released on Windows)\n",
    "    with sqlite3.connect(db_path) as con:\n",
    "        con.executescript(DDL)\n",
    "        customer_dim.to_sql(\"CustomerDim\", con, if_exists=\"replace\", index=False)\n",
    "        product_dim.to_sql(\"ProductDim\",  con, if_exists=\"replace\", index=False)\n",
    "        time_dim.to_sql(\"TimeDim\",        con, if_exists=\"replace\", index=False)\n",
    "        sales_fact.to_sql(\"SalesFact\",    con, if_exists=\"replace\", index=False)\n",
    "        con.commit()\n",
    "\n",
    "        # Row counts (sanity)\n",
    "        for tbl in [\"CustomerDim\",\"ProductDim\",\"TimeDim\",\"SalesFact\"]:\n",
    "            cnt = pd.read_sql_query(f\"SELECT COUNT(*) AS c FROM {tbl};\", con)[\"c\"][0]\n",
    "            print(f\"[ETL] {tbl} rows:\", cnt)\n"
   ]
  },
  {
   "cell_type": "markdown",
   "id": "ed98aeb0",
   "metadata": {},
   "source": [
    "# 5. Run the ETL"
   ]
  },
  {
   "cell_type": "code",
   "execution_count": null,
   "id": "1a158c47",
   "metadata": {},
   "outputs": [
    {
     "name": "stdout",
     "output_type": "stream",
     "text": [
      "[ETL] Extracted rows: 1000\n",
      "[ETL] After last-year filter: 509\n",
      "[ETL] CustomerDim rows: 100\n",
      "[ETL] ProductDim rows: 509\n",
      "[ETL] TimeDim rows: 270\n",
      "[ETL] SalesFact rows: 509\n"
     ]
    },
    {
     "data": {
      "text/html": [
       "<div>\n",
       "<style scoped>\n",
       "    .dataframe tbody tr th:only-of-type {\n",
       "        vertical-align: middle;\n",
       "    }\n",
       "\n",
       "    .dataframe tbody tr th {\n",
       "        vertical-align: top;\n",
       "    }\n",
       "\n",
       "    .dataframe thead th {\n",
       "        text-align: right;\n",
       "    }\n",
       "</style>\n",
       "<table border=\"1\" class=\"dataframe\">\n",
       "  <thead>\n",
       "    <tr style=\"text-align: right;\">\n",
       "      <th></th>\n",
       "      <th>name</th>\n",
       "    </tr>\n",
       "  </thead>\n",
       "  <tbody>\n",
       "    <tr>\n",
       "      <th>0</th>\n",
       "      <td>CustomerDim</td>\n",
       "    </tr>\n",
       "    <tr>\n",
       "      <th>1</th>\n",
       "      <td>ProductDim</td>\n",
       "    </tr>\n",
       "    <tr>\n",
       "      <th>2</th>\n",
       "      <td>SalesFact</td>\n",
       "    </tr>\n",
       "    <tr>\n",
       "      <th>3</th>\n",
       "      <td>TimeDim</td>\n",
       "    </tr>\n",
       "  </tbody>\n",
       "</table>\n",
       "</div>"
      ],
      "text/plain": [
       "          name\n",
       "0  CustomerDim\n",
       "1   ProductDim\n",
       "2    SalesFact\n",
       "3      TimeDim"
      ]
     },
     "metadata": {},
     "output_type": "display_data"
    }
   ],
   "source": [
    "run_etl()\n",
    "with sqlite3.connect(DB_PATH) as con:\n",
    "    display(pd.read_sql_query(\"SELECT name FROM sqlite_master WHERE type='table' ORDER BY name;\", con))\n"
   ]
  },
  {
   "cell_type": "markdown",
   "id": "9cb4aaff",
   "metadata": {},
   "source": [
    "# 6. Validate the load"
   ]
  },
  {
   "cell_type": "code",
   "execution_count": 6,
   "id": "75de1336",
   "metadata": {},
   "outputs": [
    {
     "name": "stdout",
     "output_type": "stream",
     "text": [
      "Row counts:\n"
     ]
    },
    {
     "data": {
      "text/html": [
       "<div>\n",
       "<style scoped>\n",
       "    .dataframe tbody tr th:only-of-type {\n",
       "        vertical-align: middle;\n",
       "    }\n",
       "\n",
       "    .dataframe tbody tr th {\n",
       "        vertical-align: top;\n",
       "    }\n",
       "\n",
       "    .dataframe thead th {\n",
       "        text-align: right;\n",
       "    }\n",
       "</style>\n",
       "<table border=\"1\" class=\"dataframe\">\n",
       "  <thead>\n",
       "    <tr style=\"text-align: right;\">\n",
       "      <th></th>\n",
       "      <th>table_name</th>\n",
       "      <th>cnt</th>\n",
       "    </tr>\n",
       "  </thead>\n",
       "  <tbody>\n",
       "    <tr>\n",
       "      <th>0</th>\n",
       "      <td>CustomerDim</td>\n",
       "      <td>100</td>\n",
       "    </tr>\n",
       "    <tr>\n",
       "      <th>1</th>\n",
       "      <td>ProductDim</td>\n",
       "      <td>509</td>\n",
       "    </tr>\n",
       "    <tr>\n",
       "      <th>2</th>\n",
       "      <td>TimeDim</td>\n",
       "      <td>270</td>\n",
       "    </tr>\n",
       "    <tr>\n",
       "      <th>3</th>\n",
       "      <td>SalesFact</td>\n",
       "      <td>509</td>\n",
       "    </tr>\n",
       "  </tbody>\n",
       "</table>\n",
       "</div>"
      ],
      "text/plain": [
       "    table_name  cnt\n",
       "0  CustomerDim  100\n",
       "1   ProductDim  509\n",
       "2      TimeDim  270\n",
       "3    SalesFact  509"
      ]
     },
     "metadata": {},
     "output_type": "display_data"
    },
    {
     "name": "stdout",
     "output_type": "stream",
     "text": [
      "Integrity (expect 0 bad rows):\n"
     ]
    },
    {
     "data": {
      "text/html": [
       "<div>\n",
       "<style scoped>\n",
       "    .dataframe tbody tr th:only-of-type {\n",
       "        vertical-align: middle;\n",
       "    }\n",
       "\n",
       "    .dataframe tbody tr th {\n",
       "        vertical-align: top;\n",
       "    }\n",
       "\n",
       "    .dataframe thead th {\n",
       "        text-align: right;\n",
       "    }\n",
       "</style>\n",
       "<table border=\"1\" class=\"dataframe\">\n",
       "  <thead>\n",
       "    <tr style=\"text-align: right;\">\n",
       "      <th></th>\n",
       "      <th>bad_rows</th>\n",
       "    </tr>\n",
       "  </thead>\n",
       "  <tbody>\n",
       "    <tr>\n",
       "      <th>0</th>\n",
       "      <td>0</td>\n",
       "    </tr>\n",
       "  </tbody>\n",
       "</table>\n",
       "</div>"
      ],
      "text/plain": [
       "   bad_rows\n",
       "0         0"
      ]
     },
     "metadata": {},
     "output_type": "display_data"
    }
   ],
   "source": [
    "with sqlite3.connect(DB_PATH) as con:\n",
    "    print(\"Row counts:\")\n",
    "    display(pd.read_sql_query(\"\"\"\n",
    "    SELECT 'CustomerDim' AS table_name, COUNT(*) AS cnt FROM CustomerDim\n",
    "    UNION ALL SELECT 'ProductDim', COUNT(*) FROM ProductDim\n",
    "    UNION ALL SELECT 'TimeDim', COUNT(*) FROM TimeDim\n",
    "    UNION ALL SELECT 'SalesFact', COUNT(*) FROM SalesFact;\n",
    "    \"\"\", con))\n",
    "\n",
    "    print(\"Integrity (expect 0 bad rows):\")\n",
    "    display(pd.read_sql_query(\"\"\"\n",
    "    SELECT COUNT(*) AS bad_rows\n",
    "    FROM SalesFact\n",
    "    WHERE ROUND(TotalSales, 2) <> ROUND(Quantity * UnitPrice, 2);\n",
    "    \"\"\", con))\n"
   ]
  },
  {
   "cell_type": "code",
   "execution_count": null,
   "id": "3b7849b4",
   "metadata": {},
   "outputs": [],
   "source": []
  }
 ],
 "metadata": {
  "kernelspec": {
   "display_name": "Python 3",
   "language": "python",
   "name": "python3"
  },
  "language_info": {
   "codemirror_mode": {
    "name": "ipython",
    "version": 3
   },
   "file_extension": ".py",
   "mimetype": "text/x-python",
   "name": "python",
   "nbconvert_exporter": "python",
   "pygments_lexer": "ipython3",
   "version": "3.12.6"
  }
 },
 "nbformat": 4,
 "nbformat_minor": 5
}
