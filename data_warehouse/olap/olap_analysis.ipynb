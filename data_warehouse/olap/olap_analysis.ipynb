{
 "cells": [
  {
   "cell_type": "markdown",
   "id": "59b7356d",
   "metadata": {},
   "source": [
    "# OLAP Queries & Analysis"
   ]
  },
  {
   "cell_type": "markdown",
   "id": "0f781239",
   "metadata": {},
   "source": [
    "# 1. Imports"
   ]
  },
  {
   "cell_type": "code",
   "execution_count": null,
   "id": "a8be2e3c",
   "metadata": {},
   "outputs": [],
   "source": [
    "import os, sqlite3\n",
    "import pandas as pd\n",
    "import matplotlib.pyplot as plt"
   ]
  }
 ],
 "metadata": {
  "language_info": {
   "name": "python"
  }
 },
 "nbformat": 4,
 "nbformat_minor": 5
}
