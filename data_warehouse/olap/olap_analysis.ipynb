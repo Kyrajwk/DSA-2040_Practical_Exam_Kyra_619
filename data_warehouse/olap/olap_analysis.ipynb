{
 "cells": [
  {
   "cell_type": "markdown",
   "id": "59b7356d",
   "metadata": {},
   "source": [
    "# OLAP Queries & Analysis"
   ]
  },
  {
   "cell_type": "markdown",
   "id": "0f781239",
   "metadata": {},
   "source": [
    "# 1. Imports"
   ]
  },
  {
   "cell_type": "code",
   "execution_count": 1,
   "id": "a8be2e3c",
   "metadata": {},
   "outputs": [],
   "source": [
    "import os, sqlite3\n",
    "import pandas as pd\n",
    "import matplotlib.pyplot as plt"
   ]
  },
  {
   "cell_type": "markdown",
   "id": "7812c390",
   "metadata": {},
   "source": [
    "# 2. Paths"
   ]
  },
  {
   "cell_type": "code",
   "execution_count": 2,
   "id": "ec750f3f",
   "metadata": {},
   "outputs": [
    {
     "data": {
      "text/plain": [
       "'c:\\\\Users\\\\billg\\\\Documents\\\\Kyra ;)\\\\DSA-2040_Practical_Exam_Kyra_619\\\\DSA-2040_Practical_Exam_Kyra_619\\\\data_warehouse\\\\etl\\\\retail_dw.db'"
      ]
     },
     "execution_count": 2,
     "metadata": {},
     "output_type": "execute_result"
    }
   ],
   "source": [
    "OLAP_DIR = os.getcwd()\n",
    "DB_PATH = os.path.join(os.path.dirname(OLAP_DIR), \"etl\", \"retail_dw.db\")\n",
    "DB_PATH"
   ]
  },
  {
   "cell_type": "markdown",
   "id": "82458db9",
   "metadata": {},
   "source": [
    "# 3. Run OLAP queries"
   ]
  },
  {
   "cell_type": "code",
   "execution_count": 3,
   "id": "6ec65666",
   "metadata": {},
   "outputs": [
    {
     "data": {
      "text/plain": [
       "(   Country  Year  Quarter  TotalSales\n",
       " 0  Denmark  2024        3     5725.35\n",
       " 1  Finland  2024        3    18553.14\n",
       " 2   France  2024        3     7495.16\n",
       " 3  Germany  2024        3    16413.93\n",
       " 4  Ireland  2024        3     2183.65,\n",
       "    Year  Month MonthName  TotalSales\n",
       " 0  2024      8       Aug      930.43\n",
       " 1  2024      9       Sep     5271.86\n",
       " 2  2024     10       Oct     6895.51\n",
       " 3  2024     11       Nov     1167.67\n",
       " 4  2024     12       Dec     4373.22,\n",
       "    ElectronicsSales\n",
       " 0         133722.09)"
      ]
     },
     "execution_count": 3,
     "metadata": {},
     "output_type": "execute_result"
    }
   ],
   "source": [
    "con = sqlite3.connect(DB_PATH)\n",
    "\n",
    "rollup = pd.read_sql_query(\"\"\"\n",
    "SELECT c.Country, t.Year, t.Quarter, ROUND(SUM(s.TotalSales),2) AS TotalSales\n",
    "FROM SalesFact s\n",
    "JOIN CustomerDim c ON s.CustomerKey = c.CustomerKey\n",
    "JOIN TimeDim t     ON s.TimeKey     = t.TimeKey\n",
    "GROUP BY c.Country, t.Year, t.Quarter\n",
    "ORDER BY t.Year, t.Quarter, c.Country;\n",
    "\"\"\", con)\n",
    "\n",
    "drilldown_uk = pd.read_sql_query(\"\"\"\n",
    "SELECT t.Year, t.Month, t.MonthName, ROUND(SUM(s.TotalSales),2) AS TotalSales\n",
    "FROM SalesFact s\n",
    "JOIN CustomerDim c ON s.CustomerKey = c.CustomerKey\n",
    "JOIN TimeDim t     ON s.TimeKey     = t.TimeKey\n",
    "WHERE c.Country = 'United Kingdom'\n",
    "GROUP BY t.Year, t.Month, t.MonthName\n",
    "ORDER BY t.Year, t.Month;\n",
    "\"\"\", con)\n",
    "\n",
    "slice_electronics = pd.read_sql_query(\"\"\"\n",
    "SELECT ROUND(SUM(s.TotalSales),2) AS ElectronicsSales\n",
    "FROM SalesFact s\n",
    "JOIN ProductDim p ON s.ProductKey = p.ProductKey\n",
    "WHERE p.Category = 'Electronics';\n",
    "\"\"\", con)\n",
    "\n",
    "con.close()\n",
    "\n",
    "rollup.head(), drilldown_uk.head(), slice_electronics\n"
   ]
  },
  {
   "cell_type": "markdown",
   "id": "f711a756",
   "metadata": {},
   "source": [
    "# 4. Plot sales by country & export results"
   ]
  },
  {
   "cell_type": "code",
   "execution_count": 4,
   "id": "c65137f8",
   "metadata": {},
   "outputs": [
    {
     "data": {
      "image/png": "[encoded data removed]",
      "text/plain": [
       "<Figure size 800x500 with 1 Axes>"
      ]
     },
     "metadata": {},
     "output_type": "display_data"
    }
   ],
   "source": [
    "# Bar chart: total sales by country (sum across quarters)\n",
    "country_totals = rollup.groupby(\"Country\")[\"TotalSales\"].sum().sort_values(ascending=False)\n",
    "\n",
    "plt.figure(figsize=(8,5))\n",
    "country_totals.plot(kind=\"bar\")   # default matplotlib styling\n",
    "plt.title(\"Total Sales by Country (Last Year)\")\n",
    "plt.ylabel(\"Sales\")\n",
    "plt.xlabel(\"Country\")\n",
    "plt.tight_layout()\n",
    "plt.savefig(os.path.join(OLAP_DIR, \"sales_by_country.png\"), dpi=150)\n",
    "plt.show()\n",
    "\n",
    "# Save data artifacts\n",
    "rollup.to_csv(os.path.join(OLAP_DIR, \"rollup_country_quarter.csv\"), index=False)\n",
    "drilldown_uk.to_csv(os.path.join(OLAP_DIR, \"drilldown_uk_monthly.csv\"), index=False)\n",
    "slice_electronics.to_csv(os.path.join(OLAP_DIR, \"slice_electronics.csv\"), index=False)\n"
   ]
  },
  {
   "cell_type": "markdown",
   "id": "69b65e89",
   "metadata": {},
   "source": [
    "# 5. Analysis\n",
    "The roll-up shows that sales are concentrated in a few countries, which suggests focusing marketing and inventory on those regions. Quarterly totals peak in Q4, indicating a seasonal effect—useful for demand planning and staffing. The UK drill-down reveals month-to-month variability with clear surges that likely align to holidays and promotions; teams can test targeted offers during these periods. The Electronics slice contributes a sizeable share of revenue, implying product depth and price elasticity in that category. The dimensional model (Customer, Product, Time) allowed these questions to be answered with simple joins and groupings, keeping query latency low and logic transparent. While the dataset is programmatically generated in ETL, the queries, schema, and process mirror a realistic retail warehouse and support common BI use cases (geography, seasonality, category contribution). For production, the same model can scale by partitioning the fact table by date and materializing country/quarter summaries for dashboards"
   ]
  },
  {
   "cell_type": "code",
   "execution_count": null,
   "id": "f8f385a3",
   "metadata": {},
   "outputs": [],
   "source": []
  }
 ],
 "metadata": {
  "kernelspec": {
   "display_name": "Python 3",
   "language": "python",
   "name": "python3"
  },
  "language_info": {
   "codemirror_mode": {
    "name": "ipython",
    "version": 3
   },
   "file_extension": ".py",
   "mimetype": "text/x-python",
   "name": "python",
   "nbconvert_exporter": "python",
   "pygments_lexer": "ipython3",
   "version": "3.12.6"
  }
 },
 "nbformat": 4,
 "nbformat_minor": 5
}
