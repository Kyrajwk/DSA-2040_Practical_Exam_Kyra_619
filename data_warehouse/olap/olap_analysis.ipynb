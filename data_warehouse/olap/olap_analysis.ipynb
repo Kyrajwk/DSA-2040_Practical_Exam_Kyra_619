{
 "cells": [
  {
   "cell_type": "markdown",
   "id": "59b7356d",
   "metadata": {},
   "source": [
    "# OLAP Queries & Analysis"
   ]
  },
  {
   "cell_type": "markdown",
   "id": "0f781239",
   "metadata": {},
   "source": [
    "# 1. Imports"
   ]
  },
  {
   "cell_type": "code",
   "execution_count": null,
   "id": "a8be2e3c",
   "metadata": {},
   "outputs": [],
   "source": [
    "import os, sqlite3\n",
    "import pandas as pd\n",
    "import matplotlib.pyplot as plt"
   ]
  },
  {
   "cell_type": "markdown",
   "id": "7812c390",
   "metadata": {},
   "source": [
    "# 2. Paths"
   ]
  },
  {
   "cell_type": "code",
   "execution_count": null,
   "id": "ec750f3f",
   "metadata": {},
   "outputs": [],
   "source": [
    "OLAP_DIR = os.getcwd()\n",
    "DB_PATH = os.path.join(os.path.dirname(OLAP_DIR), \"etl\", \"retail_dw.db\")\n",
    "DB_PATH"
   ]
  },
  {
   "cell_type": "markdown",
   "id": "82458db9",
   "metadata": {},
   "source": [
    "# 3. Run OLAP queries"
   ]
  },
  {
   "cell_type": "code",
   "execution_count": null,
   "id": "6ec65666",
   "metadata": {},
   "outputs": [],
   "source": [
    "con = sqlite3.connect(DB_PATH)\n",
    "\n",
    "rollup = pd.read_sql_query(\"\"\"\n",
    "SELECT c.Country, t.Year, t.Quarter, ROUND(SUM(s.TotalSales),2) AS TotalSales\n",
    "FROM SalesFact s\n",
    "JOIN CustomerDim c ON s.CustomerKey = c.CustomerKey\n",
    "JOIN TimeDim t     ON s.TimeKey     = t.TimeKey\n",
    "GROUP BY c.Country, t.Year, t.Quarter\n",
    "ORDER BY t.Year, t.Quarter, c.Country;\n",
    "\"\"\", con)\n",
    "\n",
    "drilldown_uk = pd.read_sql_query(\"\"\"\n",
    "SELECT t.Year, t.Month, t.MonthName, ROUND(SUM(s.TotalSales),2) AS TotalSales\n",
    "FROM SalesFact s\n",
    "JOIN CustomerDim c ON s.CustomerKey = c.CustomerKey\n",
    "JOIN TimeDim t     ON s.TimeKey     = t.TimeKey\n",
    "WHERE c.Country = 'United Kingdom'\n",
    "GROUP BY t.Year, t.Month, t.MonthName\n",
    "ORDER BY t.Year, t.Month;\n",
    "\"\"\", con)\n",
    "\n",
    "slice_electronics = pd.read_sql_query(\"\"\"\n",
    "SELECT ROUND(SUM(s.TotalSales),2) AS ElectronicsSales\n",
    "FROM SalesFact s\n",
    "JOIN ProductDim p ON s.ProductKey = p.ProductKey\n",
    "WHERE p.Category = 'Electronics';\n",
    "\"\"\", con)\n",
    "\n",
    "con.close()\n",
    "\n",
    "rollup.head(), drilldown_uk.head(), slice_electronics\n"
   ]
  },
  {
   "cell_type": "markdown",
   "id": "f711a756",
   "metadata": {},
   "source": [
    "# 4. Plot sales by country & export results"
   ]
  },
  {
   "cell_type": "code",
   "execution_count": null,
   "id": "c65137f8",
   "metadata": {},
   "outputs": [],
   "source": [
    "# Bar chart: total sales by country (sum across quarters)\n",
    "country_totals = rollup.groupby(\"Country\")[\"TotalSales\"].sum().sort_values(ascending=False)\n",
    "\n",
    "plt.figure(figsize=(8,5))\n",
    "country_totals.plot(kind=\"bar\")   # default matplotlib styling\n",
    "plt.title(\"Total Sales by Country (Last Year)\")\n",
    "plt.ylabel(\"Sales\")\n",
    "plt.xlabel(\"Country\")\n",
    "plt.tight_layout()\n",
    "plt.savefig(os.path.join(OLAP_DIR, \"sales_by_country.png\"), dpi=150)\n",
    "plt.show()\n",
    "\n",
    "# Save data artifacts\n",
    "rollup.to_csv(os.path.join(OLAP_DIR, \"rollup_country_quarter.csv\"), index=False)\n",
    "drilldown_uk.to_csv(os.path.join(OLAP_DIR, \"drilldown_uk_monthly.csv\"), index=False)\n",
    "slice_electronics.to_csv(os.path.join(OLAP_DIR, \"slice_electronics.csv\"), index=False)\n"
   ]
  }
 ],
 "metadata": {
  "language_info": {
   "name": "python"
  }
 },
 "nbformat": 4,
 "nbformat_minor": 5
}
